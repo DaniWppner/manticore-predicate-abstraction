{
 "cells": [
  {
   "cell_type": "code",
   "execution_count": 1,
   "id": "60b3c30a",
   "metadata": {},
   "outputs": [],
   "source": [
    "import sys\n",
    "import os\n",
    "import itertools\n",
    "sys.path.append(os.path.abspath('../'))\n",
    "from state_constrainer_YY import state_constrainer\n",
    "from IPython.utils import io\n",
    "import time"
   ]
  },
  {
   "cell_type": "code",
   "execution_count": 2,
   "id": "7c0191c9",
   "metadata": {},
   "outputs": [
    {
     "name": "stdout",
     "output_type": "stream",
     "text": [
      "# -- Deploying Contract arrayContract.sol\n",
      "(level _is_sat_z3_call) took 0.04546642303466797 seconds (sat)\n",
      "# -- Contract Deployed      (took 1.6144931316375732 seconds)\n"
     ]
    }
   ],
   "source": [
    "m = state_constrainer('arrayContract.sol')\n",
    "witness = m.witness_account"
   ]
  },
  {
   "cell_type": "code",
   "execution_count": 5,
   "id": "7fd7ba1d",
   "metadata": {},
   "outputs": [
    {
     "data": {
      "text/plain": [
       "{'undefLengthSumArr': b'B\\x11\\xe2\\x07',\n",
       " 'sizedArr': b'HFh\\xc0',\n",
       " 'sumArr': b'R\\xa2M\\xd2',\n",
       " 'undefSizeArr': b']\\xe1\\x843',\n",
       " 'setArrFor': b'pyj\\x15',\n",
       " 'setArrAssign': b'\\x9a\\x99\\xc8`'}"
      ]
     },
     "execution_count": 5,
     "metadata": {},
     "output_type": "execute_result"
    }
   ],
   "source": [
    "m.nameToFuncId"
   ]
  },
  {
   "cell_type": "markdown",
   "id": "10f6ca1a",
   "metadata": {},
   "source": [
    "# Pasar Arrays por parametro"
   ]
  },
  {
   "cell_type": "markdown",
   "id": "41c7b695",
   "metadata": {},
   "source": [
    "## De tamaño fijo"
   ]
  },
  {
   "cell_type": "code",
   "execution_count": 5,
   "id": "a99d7b08",
   "metadata": {},
   "outputs": [],
   "source": [
    "sumArr_id = m.nameToFuncId['sumArr']\n",
    "arr, value, _ = m.make_transaction_parameters(sumArr_id)\n",
    "print(arr)\n",
    "print(value)"
   ]
  },
  {
   "cell_type": "code",
   "execution_count": 12,
   "id": "fbc4b183",
   "metadata": {},
   "outputs": [
    {
     "name": "stdout",
     "output_type": "stream",
     "text": [
      "(level _is_sat_z3_call) took 0.0014176368713378906 seconds (sat)\n",
      "(level _getvalue_z3_call) took 0.0003046989440917969 seconds\n",
      "(level _is_sat_z3_call) took 0.0005998611450195312 seconds (sat)\n",
      "(level _getvalue_z3_call) took 0.00010704994201660156 seconds\n",
      "(level _is_sat_z3_call) took 0.00016045570373535156 seconds (unsat)\n",
      "(level _is_sat_z3_call) took 0.005129575729370117 seconds (sat)\n"
     ]
    }
   ],
   "source": [
    "m.callContractFunction('sumArr',arr,value,witness)"
   ]
  },
  {
   "cell_type": "code",
   "execution_count": 13,
   "id": "421327b3",
   "metadata": {},
   "outputs": [
    {
     "name": "stdout",
     "output_type": "stream",
     "text": [
      "(level _is_sat_z3_call) took 0.0007700920104980469 seconds (sat)\n",
      "(level _getvalue_all_z3_call) took 0.0003781318664550781 seconds\n",
      "(level _getvalue_all) took 0.0004112720489501953 seconds)\n",
      "(level get_value_in_batch) took 0.005476236343383789 seconds\n",
      "(level solve_one_n_batched) took 0.005716800689697266 seconds\n"
     ]
    }
   ],
   "source": [
    "res = m.last_return_of('sumArr')"
   ]
  },
  {
   "cell_type": "code",
   "execution_count": 14,
   "id": "75eb86a8",
   "metadata": {},
   "outputs": [
    {
     "data": {
      "text/plain": [
       "37"
      ]
     },
     "execution_count": 14,
     "metadata": {},
     "output_type": "execute_result"
    }
   ],
   "source": [
    "res"
   ]
  },
  {
   "cell_type": "code",
   "execution_count": 15,
   "id": "5187e7c8",
   "metadata": {},
   "outputs": [
    {
     "data": {
      "text/plain": [
       "2"
      ]
     },
     "execution_count": 15,
     "metadata": {},
     "output_type": "execute_result"
    }
   ],
   "source": [
    "m.manticore.count_ready_states()"
   ]
  },
  {
   "cell_type": "code",
   "execution_count": 23,
   "id": "a0c0104a",
   "metadata": {},
   "outputs": [],
   "source": [
    "txs = []\n",
    "for state in m.manticore.ready_states:\n",
    "    txs.append(state.platform.last_human_transaction)"
   ]
  },
  {
   "cell_type": "code",
   "execution_count": 18,
   "id": "99b82ebc",
   "metadata": {},
   "outputs": [
    {
     "data": {
      "text/plain": [
       "[<manticore.platforms.evm.Transaction at 0x7fe96b4a6f40>,\n",
       " <manticore.platforms.evm.Transaction at 0x7fe96b4a7040>]"
      ]
     },
     "execution_count": 18,
     "metadata": {},
     "output_type": "execute_result"
    }
   ],
   "source": [
    "txs"
   ]
  },
  {
   "cell_type": "code",
   "execution_count": 27,
   "id": "d9c27b85",
   "metadata": {},
   "outputs": [
    {
     "data": {
      "text/plain": [
       "[<BitVecConcat at 7fe96b158680>, <BitVecConcat at 7fe96b17c580>]"
      ]
     },
     "execution_count": 27,
     "metadata": {},
     "output_type": "execute_result"
    }
   ],
   "source": [
    "symb_ress = []\n",
    "for tx in txs:\n",
    "    symb_ress.append(m.result_of_tx(tx,sumArr_id))\n",
    "symb_ress"
   ]
  },
  {
   "cell_type": "markdown",
   "id": "0b15b019",
   "metadata": {},
   "source": [
    "## De tamaño variable"
   ]
  },
  {
   "cell_type": "code",
   "execution_count": 9,
   "id": "42dcfab9",
   "metadata": {},
   "outputs": [
    {
     "name": "stdout",
     "output_type": "stream",
     "text": [
      "([<BitVecVariable(SVALUE_10) at 7fbe6a79edc0>, <BitVecVariable(SVALUE_11) at 7fbe6a96a240>, <BitVecVariable(SVALUE_12) at 7fbe6a8e0200>, <BitVecVariable(SVALUE_13) at 7fbe6a8e33c0>, <BitVecVariable(SVALUE_14) at 7fbe6a8e3000>],)\n",
      "0\n",
      "<BitVecVariable(TXADDR) at 7fbe6a8e37c0>\n"
     ]
    }
   ],
   "source": [
    "arr, value, _ = m.make_transaction_parameters(sumArr_id)\n",
    "print(arr)\n",
    "print(value)"
   ]
  },
  {
   "cell_type": "code",
   "execution_count": 10,
   "id": "06412ef0",
   "metadata": {},
   "outputs": [
    {
     "name": "stdout",
     "output_type": "stream",
     "text": [
      "(level _is_sat_z3_call) took 0.0008792877197265625 seconds (sat)\n",
      "(level _getvalue_z3_call) took 0.00028228759765625 seconds\n",
      "(level _is_sat_z3_call) took 0.0003020763397216797 seconds (sat)\n",
      "(level _getvalue_z3_call) took 0.0001461505889892578 seconds\n",
      "(level _is_sat_z3_call) took 0.00011563301086425781 seconds (unsat)\n",
      "(level _is_sat_z3_call) took 0.0014500617980957031 seconds (sat)\n"
     ]
    }
   ],
   "source": [
    "start = time.time()\n",
    "m.callContractFunction('undefLengthSumArr',arr,value,witness)\n",
    "end = time.time()"
   ]
  },
  {
   "cell_type": "code",
   "execution_count": 12,
   "id": "98d8945d",
   "metadata": {},
   "outputs": [
    {
     "name": "stdout",
     "output_type": "stream",
     "text": [
      "73.34129500389099 seconds\n"
     ]
    }
   ],
   "source": [
    "print(f\"{end-start} seconds\")"
   ]
  },
  {
   "cell_type": "code",
   "execution_count": 4,
   "id": "bd8667b3",
   "metadata": {},
   "outputs": [
    {
     "name": "stdout",
     "output_type": "stream",
     "text": [
      "(uint256[10])\n"
     ]
    }
   ],
   "source": [
    "undefLengthSumArr_id = m.nameToFuncId[\"undefLengthSumArr\"]\n",
    "types = m.contract_metadata.get_func_argument_types(undefLengthSumArr_id) #undefLengthSumArr\n",
    "types = types[:-2]+'10'+types[-2:]\n",
    "print(types)"
   ]
  },
  {
   "cell_type": "code",
   "execution_count": 5,
   "id": "70bb6137",
   "metadata": {},
   "outputs": [
    {
     "name": "stdout",
     "output_type": "stream",
     "text": [
      "([<BitVecVariable(SVALUE) at 7fbe6ab01240>, <BitVecVariable(SVALUE_1) at 7fbe8013f200>, <BitVecVariable(SVALUE_2) at 7fbe80291e00>, <BitVecVariable(SVALUE_3) at 7fbe6aa3da40>, <BitVecVariable(SVALUE_4) at 7fbe802a9700>, <BitVecVariable(SVALUE_5) at 7fbe802cb3c0>, <BitVecVariable(SVALUE_6) at 7fbe802d8980>, <BitVecVariable(SVALUE_7) at 7fbe802d9f80>, <BitVecVariable(SVALUE_8) at 7fbe802dbe80>, <BitVecVariable(SVALUE_9) at 7fbe802c8c00>],)\n"
     ]
    }
   ],
   "source": [
    "symb_arr = m.manticore.make_symbolic_arguments(types)\n",
    "print(symb_arr)"
   ]
  },
  {
   "cell_type": "code",
   "execution_count": 6,
   "id": "c21cddf1",
   "metadata": {},
   "outputs": [],
   "source": [
    "start = time.time()\n",
    "m.callContractFunction('undefLengthSumArr',symb_arr,0,witness)\n",
    "end = time.time()"
   ]
  },
  {
   "cell_type": "code",
   "execution_count": 8,
   "id": "584c85b7",
   "metadata": {},
   "outputs": [
    {
     "name": "stdout",
     "output_type": "stream",
     "text": [
      "115.30082678794861 seconds\n"
     ]
    }
   ],
   "source": [
    "print(f\"{end-start} seconds\")"
   ]
  },
  {
   "cell_type": "code",
   "execution_count": 13,
   "id": "7471b95c",
   "metadata": {},
   "outputs": [
    {
     "name": "stdout",
     "output_type": "stream",
     "text": [
      "(uint256[20])\n"
     ]
    }
   ],
   "source": [
    "types = m.contract_metadata.get_func_argument_types(undefLengthSumArr_id) #undefLengthSumArr\n",
    "types = types[:-2]+'20'+types[-2:]\n",
    "print(types)"
   ]
  },
  {
   "cell_type": "code",
   "execution_count": 14,
   "id": "bf46abe7",
   "metadata": {},
   "outputs": [
    {
     "name": "stdout",
     "output_type": "stream",
     "text": [
      "([<BitVecVariable(SVALUE_15) at 7fbe6a8fb080>, <BitVecVariable(SVALUE_16) at 7fbe1f7f4c00>, <BitVecVariable(SVALUE_17) at 7fbe1f7f6ac0>, <BitVecVariable(SVALUE_18) at 7fbe1f7f4400>, <BitVecVariable(SVALUE_19) at 7fbe1f7f5780>, <BitVecVariable(SVALUE_20) at 7fbe1f7f6e00>, <BitVecVariable(SVALUE_21) at 7fbe1f7f4f80>, <BitVecVariable(SVALUE_22) at 7fbe1f7f5480>, <BitVecVariable(SVALUE_23) at 7fbe1f7f4900>, <BitVecVariable(SVALUE_24) at 7fbe1f7f4600>, <BitVecVariable(SVALUE_25) at 7fbe1f7f71c0>, <BitVecVariable(SVALUE_26) at 7fbe1f7f5840>, <BitVecVariable(SVALUE_27) at 7fbe1f7f6e80>, <BitVecVariable(SVALUE_28) at 7fbe1f7f4180>, <BitVecVariable(SVALUE_29) at 7fbe1f7f7340>, <BitVecVariable(SVALUE_30) at 7fbe1f7f7780>, <BitVecVariable(SVALUE_31) at 7fbe1f7f70c0>, <BitVecVariable(SVALUE_32) at 7fbe1f7f4980>, <BitVecVariable(SVALUE_33) at 7fbe1f7f6bc0>, <BitVecVariable(SVALUE_34) at 7fbe1f7f79c0>],)\n"
     ]
    }
   ],
   "source": [
    "symb_arr = m.manticore.make_symbolic_arguments(types)\n",
    "print(symb_arr)"
   ]
  },
  {
   "cell_type": "code",
   "execution_count": 15,
   "id": "933f60bf",
   "metadata": {},
   "outputs": [],
   "source": [
    "start = time.time()\n",
    "m.callContractFunction('undefLengthSumArr',symb_arr,0,witness)\n",
    "end = time.time()"
   ]
  },
  {
   "cell_type": "code",
   "execution_count": 16,
   "id": "fff32514",
   "metadata": {},
   "outputs": [
    {
     "name": "stdout",
     "output_type": "stream",
     "text": [
      "1146.857209444046 seconds\n"
     ]
    }
   ],
   "source": [
    "print(f\"{end-start} seconds\")"
   ]
  },
  {
   "cell_type": "code",
   "execution_count": null,
   "id": "3ada7372",
   "metadata": {},
   "outputs": [],
   "source": [
    "m.manticore.finalize()"
   ]
  },
  {
   "cell_type": "markdown",
   "id": "07be94fb",
   "metadata": {},
   "source": [
    "# Setear un Array por parametro"
   ]
  },
  {
   "cell_type": "markdown",
   "id": "d2352086",
   "metadata": {},
   "source": [
    "## De tamaño fijo"
   ]
  },
  {
   "cell_type": "code",
   "execution_count": 3,
   "id": "6db9c6a4",
   "metadata": {},
   "outputs": [
    {
     "name": "stdout",
     "output_type": "stream",
     "text": [
      "# -- Deploying Contract arrayContract.sol\n",
      "(level _is_sat_z3_call) took 0.0006322860717773438 seconds (sat)\n",
      "# -- Contract Deployed      (took 0.9604082107543945 seconds)\n"
     ]
    }
   ],
   "source": [
    "m = state_constrainer('arrayContract.sol')\n",
    "witness = m.witness_account"
   ]
  },
  {
   "cell_type": "code",
   "execution_count": 4,
   "id": "1f1c298a",
   "metadata": {
    "scrolled": true
   },
   "outputs": [
    {
     "data": {
      "text/plain": [
       "{'undefLengthSumArr': b'B\\x11\\xe2\\x07',\n",
       " 'sizedArr': b'HFh\\xc0',\n",
       " 'sumArr': b'R\\xa2M\\xd2',\n",
       " 'undefSizeArr': b']\\xe1\\x843',\n",
       " 'setArrFor': b'pyj\\x15',\n",
       " 'setArrAssign': b'\\x9a\\x99\\xc8`',\n",
       " 'unsizedSetArrFor': b'\\xb9g,\\xeb',\n",
       " 'unsizedSetArrAssign': b'\\xfa?H>'}"
      ]
     },
     "execution_count": 4,
     "metadata": {},
     "output_type": "execute_result"
    }
   ],
   "source": [
    "m.nameToFuncId"
   ]
  },
  {
   "cell_type": "code",
   "execution_count": 6,
   "id": "cee50aad",
   "metadata": {},
   "outputs": [
    {
     "name": "stdout",
     "output_type": "stream",
     "text": [
      "([<BitVecVariable(SVALUE) at 7f695c7b5fc0>, <BitVecVariable(SVALUE_1) at 7f695c11e900>, <BitVecVariable(SVALUE_2) at 7f695c4cccc0>, <BitVecVariable(SVALUE_3) at 7f6947e4ca80>, <BitVecVariable(SVALUE_4) at 7f6947e4d980>, <BitVecVariable(SVALUE_5) at 7f6947e4f700>, <BitVecVariable(SVALUE_6) at 7f6947e4e500>, <BitVecVariable(SVALUE_7) at 7f6947e4ef40>, <BitVecVariable(SVALUE_8) at 7f6947e4de40>, <BitVecVariable(SVALUE_9) at 7f6947e4fcc0>],)\n",
      "0\n",
      "<BitVecVariable(TXADDR) at 7f6947e4e080>\n"
     ]
    }
   ],
   "source": [
    "setArrFor_id = m.nameToFuncId['setArrFor']\n",
    "arrFor, value, _ = m.make_transaction_parameters(setArrFor_id)\n",
    "print(arrFor)\n",
    "print(value)"
   ]
  },
  {
   "cell_type": "code",
   "execution_count": 7,
   "id": "63a5ca7e",
   "metadata": {},
   "outputs": [
    {
     "name": "stdout",
     "output_type": "stream",
     "text": [
      "(level _is_sat_z3_call) took 0.0008389949798583984 seconds (sat)\n",
      "(level _getvalue_z3_call) took 0.00014448165893554688 seconds\n",
      "(level _is_sat_z3_call) took 0.0002837181091308594 seconds (sat)\n",
      "(level _getvalue_z3_call) took 9.226799011230469e-05 seconds\n",
      "(level _is_sat_z3_call) took 9.202957153320312e-05 seconds (unsat)\n",
      "(level _is_sat_z3_call) took 0.015334367752075195 seconds (sat)\n"
     ]
    }
   ],
   "source": [
    "start = time.time()\n",
    "m.callContractFunction('setArrFor',arrFor,value,witness)\n",
    "end = time.time()"
   ]
  },
  {
   "cell_type": "code",
   "execution_count": 8,
   "id": "d6d3c813",
   "metadata": {},
   "outputs": [
    {
     "name": "stdout",
     "output_type": "stream",
     "text": [
      "77.9347493648529 seconds\n"
     ]
    }
   ],
   "source": [
    "print(f\"{end-start} seconds\")"
   ]
  },
  {
   "cell_type": "code",
   "execution_count": 10,
   "id": "f0206e0a",
   "metadata": {},
   "outputs": [],
   "source": [
    "m.manticore.constrain(arrFor[0][4]==42)"
   ]
  },
  {
   "cell_type": "code",
   "execution_count": 11,
   "id": "b03af602",
   "metadata": {},
   "outputs": [
    {
     "ename": "NameError",
     "evalue": "name 'ArrAssign' is not defined",
     "output_type": "error",
     "traceback": [
      "\u001b[0;31m---------------------------------------------------------------------------\u001b[0m",
      "\u001b[0;31mNameError\u001b[0m                                 Traceback (most recent call last)",
      "Cell \u001b[0;32mIn[11], line 3\u001b[0m\n\u001b[1;32m      1\u001b[0m setArrAssign_id \u001b[38;5;241m=\u001b[39m m\u001b[38;5;241m.\u001b[39mnameToFuncId[\u001b[38;5;124m'\u001b[39m\u001b[38;5;124msetArrAssign\u001b[39m\u001b[38;5;124m'\u001b[39m]\n\u001b[1;32m      2\u001b[0m arrAssign, value, caller \u001b[38;5;241m=\u001b[39m m\u001b[38;5;241m.\u001b[39mmake_transaction_parameters(setArrAssign_id)\n\u001b[0;32m----> 3\u001b[0m \u001b[38;5;28mprint\u001b[39m(\u001b[43mArrAssign\u001b[49m)\n\u001b[1;32m      4\u001b[0m \u001b[38;5;28mprint\u001b[39m(value)\n\u001b[1;32m      5\u001b[0m \u001b[38;5;28mprint\u001b[39m(caller)\n",
      "\u001b[0;31mNameError\u001b[0m: name 'ArrAssign' is not defined"
     ]
    }
   ],
   "source": [
    "setArrAssign_id = m.nameToFuncId['setArrAssign']\n",
    "arrAssign, value, _ = m.make_transaction_parameters(setArrAssign_id)\n",
    "print(arrAssign)\n",
    "print(value)"
   ]
  },
  {
   "cell_type": "code",
   "execution_count": 13,
   "id": "455b7edd",
   "metadata": {},
   "outputs": [],
   "source": [
    "m.manticore.constrain(arrAssign[0][4]==24)"
   ]
  },
  {
   "cell_type": "code",
   "execution_count": 14,
   "id": "b02e95ed",
   "metadata": {},
   "outputs": [
    {
     "name": "stdout",
     "output_type": "stream",
     "text": [
      "(level _is_sat_z3_call) took 0.0008184909820556641 seconds (sat)(level _is_sat_z3_call) took 0.0010762214660644531 seconds (sat)\n",
      "\n",
      "(level _getvalue_z3_call) took 0.00017595291137695312 seconds\n",
      "(level _getvalue_z3_call) took 0.00036334991455078125 seconds\n",
      "(level _is_sat_z3_call) took 0.00046324729919433594 seconds (sat)\n",
      "(level _is_sat_z3_call) took 0.00029587745666503906 seconds (sat)\n",
      "(level _getvalue_z3_call) took 0.0001354217529296875 seconds\n",
      "(level _getvalue_z3_call) took 0.00020074844360351562 seconds\n",
      "(level _is_sat_z3_call) took 4.4345855712890625e-05 seconds (unsat)\n",
      "(level _is_sat_z3_call) took 0.00031304359436035156 seconds (unsat)\n",
      "(level _is_sat_z3_call) took 0.031350135803222656 seconds (sat)\n",
      "(level _is_sat_z3_call) took 0.025595903396606445 seconds (sat)\n",
      "(level _is_sat_z3_call) took 0.08156752586364746 seconds (sat)\n"
     ]
    }
   ],
   "source": [
    "start = time.time()\n",
    "m.callContractFunction('setArrAssign',arrAssign,value,witness)\n",
    "end = time.time()"
   ]
  },
  {
   "cell_type": "code",
   "execution_count": 15,
   "id": "f0241e8b",
   "metadata": {},
   "outputs": [
    {
     "name": "stdout",
     "output_type": "stream",
     "text": [
      "215.03789138793945 seconds\n"
     ]
    }
   ],
   "source": [
    "print(f\"{end-start} seconds\")"
   ]
  },
  {
   "cell_type": "code",
   "execution_count": 16,
   "id": "fbb67c80",
   "metadata": {},
   "outputs": [
    {
     "name": "stdout",
     "output_type": "stream",
     "text": [
      "(level _is_sat_z3_call) took 0.0013704299926757812 seconds (sat)\n",
      "(level _is_sat_z3_call) took 0.042807817459106445 seconds (sat)\n",
      "(level solver.can_be_true) took 0.052187204360961914 seconds(level solver.can_be_true) took 0.06580495834350586 seconds\n",
      "(level _is_sat_z3_call) took 0.043018341064453125 seconds (sat)\n",
      "(level state.can_be_true) took 0.08283400535583496 seconds(level state.can_be_true) took 0.09251737594604492 seconds\n",
      "\n",
      "\n",
      "(level solver.can_be_true) took 0.07926487922668457 seconds\n",
      "(level state.can_be_true) took 0.09945869445800781 seconds(level _is_sat_z3_call) took 0.04551053047180176 seconds (sat)\n",
      "\n",
      "(level solver.can_be_true) took 0.11582350730895996 seconds\n",
      "(level state.can_be_true) took 0.13578462600708008 seconds\n",
      "(level _is_sat_z3_call) took 0.0017848014831542969 seconds (sat)\n",
      "(level solver.can_be_true) took 0.010062694549560547 seconds\n",
      "(level state.can_be_true) took 0.012335777282714844 seconds\n",
      "(level _is_sat_z3_call) took 0.03493762016296387 seconds (sat)(level _is_sat_z3_call) took 0.002295970916748047 seconds (sat)\n",
      "\n",
      "(level solver.can_be_true) took 0.05448555946350098 seconds\n",
      "(level get_value_in_batch) took 0.024344444274902344 seconds\n",
      "(level state.can_be_true) took 0.06380963325500488 seconds(level solve_one_n_batched) took 0.0292813777923584 seconds\n",
      "\n",
      "(level _is_sat_z3_call) took 0.0006532669067382812 seconds (sat)\n",
      "(level get_value_in_batch) took 0.039157867431640625 seconds\n",
      "(level _is_sat_z3_call) took 0.04867672920227051 seconds (sat)(level solve_one_n_batched) took 0.04796171188354492 seconds\n",
      "\n",
      "(level solver.can_be_true) took 0.07952046394348145 seconds\n",
      "(level state.can_be_true) took 0.08335447311401367 seconds\n",
      "(level _is_sat_z3_call) took 0.051047563552856445 seconds (sat)(level _is_sat_z3_call) took 0.0007503032684326172 seconds (sat)\n",
      "\n",
      "(level solver.can_be_true) took 0.0762324333190918 seconds\n",
      "(level get_value_in_batch) took 0.01619696617126465 seconds(level state.can_be_true) took 0.07984352111816406 seconds\n",
      "\n",
      "(level solve_one_n_batched) took 0.021416187286376953 seconds\n",
      "(level _is_sat_z3_call) took 0.0006723403930664062 seconds (sat)\n",
      "(level get_value_in_batch) took 0.010026216506958008 seconds\n",
      "(level solve_one_n_batched) took 0.014620065689086914 seconds\n",
      "(level _is_sat_z3_call) took 0.004066944122314453 seconds (sat)\n",
      "(level _getvalue_all_z3_call) took 0.0005526542663574219 seconds\n",
      "(level _getvalue_all) took 0.0026276111602783203 seconds)\n",
      "(level get_value_in_batch) took 0.4756748676300049 seconds\n",
      "(level _is_sat_z3_call) took 0.02600693702697754 seconds (sat)\n",
      "(level _getvalue_all_z3_call) took 0.0020437240600585938 seconds\n",
      "(level _getvalue_all) took 0.0036072731018066406 seconds)\n",
      "(level get_value_in_batch) took 0.5206921100616455 seconds\n",
      "(level _is_sat_z3_call) took 0.035796165466308594 seconds (sat)\n",
      "(level _getvalue_all_z3_call) took 0.0020132064819335938 seconds\n",
      "(level _getvalue_all) took 0.006816387176513672 seconds)\n",
      "(level get_value_in_batch) took 0.6795821189880371 seconds\n",
      "(level _is_sat_z3_call) took 0.040212392807006836 seconds (sat)\n",
      "(level _getvalue_all_z3_call) took 0.10471320152282715 seconds\n",
      "(level _getvalue_all) took 0.10858535766601562 seconds)\n",
      "(level get_value_in_batch) took 0.8660199642181396 seconds(level solve_one_n_batched) took 0.9265916347503662 seconds\n",
      "\n",
      "(level _is_sat_z3_call) took 0.0010311603546142578 seconds (sat)\n",
      "(level get_value_in_batch) took 0.024616241455078125 seconds\n",
      "(level solve_one_n_batched) took 0.030907630920410156 seconds\n",
      "(level _is_sat_z3_call) took 0.0013120174407958984 seconds (sat)\n",
      "(level get_value_in_batch) took 0.025391817092895508 seconds\n",
      "(level solve_one_n_batched) took 0.03272247314453125 seconds\n",
      "(level solve_one_n_batched) took 1.153003215789795 seconds\n",
      "(level _is_sat_z3_call) took 0.0006721019744873047 seconds (sat)\n",
      "(level get_value_in_batch) took 0.020369768142700195 seconds\n",
      "(level solve_one_n_batched) took 0.025988101959228516 seconds\n",
      "(level _is_sat_z3_call) took 0.0007925033569335938 seconds (sat)\n",
      "(level get_value_in_batch) took 0.017486095428466797 seconds\n",
      "(level solve_one_n_batched) took 0.02003955841064453 seconds\n",
      "(level solve_one_n_batched) took 1.321453332901001 seconds\n",
      "(level _is_sat_z3_call) took 0.0010950565338134766 seconds (sat)\n",
      "(level get_value_in_batch) took 0.025794029235839844 seconds\n",
      "(level solve_one_n_batched) took 0.028074026107788086 seconds\n",
      "(level solve_one_n_batched) took 1.3117027282714844 seconds\n",
      "(level _is_sat_z3_call) took 0.0013661384582519531 seconds (sat)\n",
      "(level _is_sat_z3_call) took 0.00023508071899414062 seconds (sat)(level get_value_in_batch) took 0.038382530212402344 seconds\n",
      "\n",
      "(level get_value_in_batch) took 0.022049665451049805 seconds(level solve_one_n_batched) took 0.04786038398742676 seconds\n",
      "\n",
      "(level solve_one_n_batched) took 0.03006434440612793 seconds\n",
      "(level _is_sat_z3_call) took 0.0012760162353515625 seconds (sat)(level _is_sat_z3_call) took 0.0007538795471191406 seconds (sat)\n",
      "\n",
      "(level get_value_in_batch) took 0.028389692306518555 seconds(level get_value_in_batch) took 0.02408456802368164 seconds\n",
      "(level solve_one_n_batched) took 0.028079986572265625 seconds\n",
      "\n",
      "(level solve_one_n_batched) took 0.04058384895324707 seconds\n",
      "(level _is_sat_z3_call) took 0.0010559558868408203 seconds (sat)\n",
      "(level get_value_in_batch) took 0.030367612838745117 seconds\n",
      "(level solve_one_n_batched) took 0.03424572944641113 seconds\n",
      "(level _is_sat_z3_call) took 0.16280603408813477 seconds (sat)\n",
      "(level _getvalue_all_z3_call) took 0.00264739990234375 seconds\n",
      "(level _getvalue_all) took 0.005205631256103516 seconds)\n",
      "(level get_value_in_batch) took 0.5827593803405762 seconds\n",
      "(level _is_sat_z3_call) took 0.0005009174346923828 seconds (sat)\n",
      "(level get_value_in_batch) took 0.04452037811279297 seconds\n",
      "(level solve_one_n_batched) took 0.04773378372192383 seconds\n",
      "(level _is_sat_z3_call) took 0.0010099411010742188 seconds (sat)\n",
      "(level get_value_in_batch) took 0.037447452545166016 seconds\n",
      "(level solve_one_n_batched) took 0.04064178466796875 seconds\n",
      "(level _is_sat_z3_call) took 0.0013506412506103516 seconds (sat)\n",
      "(level solve_one_n_batched) took 0.7131423950195312 seconds\n",
      "(level _is_sat_z3_call) took 0.0007650852203369141 seconds (sat)\n",
      "(level get_value_in_batch) took 0.03942537307739258 seconds\n",
      "(level solve_one_n_batched) took 0.0419917106628418 seconds\n",
      "(level _is_sat_z3_call) took 0.0006763935089111328 seconds (sat)\n",
      "(level get_value_in_batch) took 0.023819923400878906 seconds\n",
      "(level solve_one_n_batched) took 0.026727676391601562 seconds\n",
      "(level _getvalue_all_z3_call) took 0.11197018623352051 seconds\n",
      "(level _getvalue_all) took 0.11455631256103516 seconds)\n",
      "(level get_value_in_batch) took 0.15645432472229004 seconds\n",
      "(level solve_one_n_batched) took 0.16843676567077637 seconds\n",
      "(level _is_sat_z3_call) took 0.0009846687316894531 seconds (sat)\n",
      "(level get_value_in_batch) took 0.0362396240234375 seconds\n",
      "(level solve_one_n_batched) took 0.03987288475036621 seconds\n",
      "(level _is_sat_z3_call) took 0.0010464191436767578 seconds (sat)\n",
      "(level get_value_in_batch) took 0.030612707138061523 seconds\n",
      "(level solve_one_n_batched) took 0.034752607345581055 seconds\n",
      "(level _is_sat_z3_call) took 0.0008397102355957031 seconds (sat)\n",
      "(level _getvalue_all_z3_call) took 0.10845279693603516 seconds\n",
      "(level _getvalue_all) took 0.11293411254882812 seconds)\n",
      "(level get_value_in_batch) took 0.1664872169494629 seconds\n",
      "(level solve_one_n_batched) took 0.17817306518554688 seconds\n",
      "(level _is_sat_z3_call) took 0.0016758441925048828 seconds (sat)\n",
      "(level get_value_in_batch) took 0.03258991241455078 seconds\n",
      "(level solve_one_n_batched) took 0.03594851493835449 seconds\n",
      "(level _is_sat_z3_call) took 0.08550119400024414 seconds (sat)\n",
      "(level _getvalue_all_z3_call) took 0.0029485225677490234 seconds\n",
      "(level _getvalue_all) took 0.004733085632324219 seconds)\n",
      "(level get_value_in_batch) took 0.7595112323760986 seconds\n",
      "(level _is_sat_z3_call) took 0.07977437973022461 seconds (sat)\n",
      "(level _getvalue_all_z3_call) took 0.0026674270629882812 seconds\n",
      "(level _getvalue_all) took 0.0051615238189697266 seconds)\n",
      "(level get_value_in_batch) took 0.7118821144104004 seconds\n",
      "(level solve_one_n_batched) took 0.9583644866943359 seconds\n",
      "(level _is_sat_z3_call) took 0.00391387939453125 seconds (sat)\n",
      "(level _is_sat_z3_call) took 0.0005991458892822266 seconds (sat)\n",
      "(level get_value_in_batch) took 0.02881336212158203 seconds\n",
      "(level solve_one_n_batched) took 0.03230762481689453 seconds\n",
      "(level solve_one_n_batched) took 0.809844970703125 seconds\n",
      "(level _is_sat_z3_call) took 0.0003998279571533203 seconds (sat)(level _is_sat_z3_call) took 0.000125885009765625 seconds (sat)\n",
      "\n",
      "(level get_value_in_batch) took 0.016481399536132812 seconds(level get_value_in_batch) took 0.025424480438232422 seconds\n",
      "\n",
      "(level solve_one_n_batched) took 0.02022266387939453 seconds(level solve_one_n_batched) took 0.028713464736938477 seconds\n",
      "\n",
      "(level _is_sat_z3_call) took 0.0006322860717773438 seconds (sat)\n",
      "(level get_value_in_batch) took 0.019385576248168945 seconds\n",
      "(level solve_one_n_batched) took 0.021037578582763672 seconds\n",
      "(level _is_sat_z3_call) took 0.0009932518005371094 seconds (sat)\n",
      "(level get_value_in_batch) took 0.025429964065551758 seconds\n",
      "(level solve_one_n_batched) took 0.029791831970214844 seconds\n",
      "(level _is_sat_z3_call) took 0.0006499290466308594 seconds (sat)\n",
      "(level _is_sat_z3_call) took 0.0013492107391357422 seconds (sat)(level get_value_in_batch) took 0.026698589324951172 seconds\n",
      "\n",
      "(level solve_one_n_batched) took 0.03367733955383301 seconds\n",
      "(level _is_sat_z3_call) took 0.0011477470397949219 seconds (sat)\n",
      "(level _is_sat_z3_call) took 0.003243684768676758 seconds (sat)\n",
      "(level _getvalue_all_z3_call) took 0.10857224464416504 seconds\n",
      "(level _getvalue_all) took 0.11088848114013672 seconds)\n",
      "(level get_value_in_batch) took 0.1542222499847412 seconds\n",
      "(level solve_one_n_batched) took 0.16115665435791016 seconds\n",
      "(level _getvalue_all_z3_call) took 0.10814809799194336 seconds\n",
      "(level _getvalue_all) took 0.1105966567993164 seconds)\n",
      "(level get_value_in_batch) took 0.1316826343536377 seconds\n",
      "(level solve_one_n_batched) took 0.13859939575195312 seconds(level _is_sat_z3_call) took 0.0007600784301757812 seconds (sat)\n",
      "\n",
      "(level get_value_in_batch) took 0.024712562561035156 seconds\n",
      "(level solve_one_n_batched) took 0.029359817504882812 seconds\n",
      "(level _is_sat_z3_call) took 0.0004978179931640625 seconds (sat)\n",
      "(level get_value_in_batch) took 0.02069234848022461 seconds\n",
      "(level solve_one_n_batched) took 0.024287700653076172 seconds\n",
      "(level _getvalue_all_z3_call) took 0.4208545684814453 seconds\n",
      "(level _getvalue_all) took 0.42522478103637695 seconds)\n",
      "(level get_value_in_batch) took 0.824415922164917 seconds\n",
      "(level solve_one_n_batched) took 0.8525717258453369 seconds\n",
      "(level _getvalue_all_z3_call) took 0.3875429630279541 seconds\n",
      "(level _getvalue_all) took 0.39272451400756836 seconds)\n",
      "(level get_value_in_batch) took 0.7923963069915771 seconds\n",
      "(level solve_one_n_batched) took 0.8221690654754639 seconds\n",
      "(level _is_sat_z3_call) took 0.0036318302154541016 seconds (sat)\n",
      "(level _is_sat_z3_call) took 0.004604816436767578 seconds (sat)\n",
      "(level _is_sat_z3_call) took 0.001979351043701172 seconds (sat)\n",
      "(level _getvalue_all_z3_call) took 0.11985635757446289 seconds\n",
      "(level _getvalue_all) took 0.12412786483764648 seconds)\n",
      "(level get_value_in_batch) took 0.4463918209075928 seconds\n",
      "(level solve_one_n_batched) took 0.47182393074035645 seconds\n",
      "(level _getvalue_all_z3_call) took 0.3838634490966797 seconds\n",
      "(level _getvalue_all) took 0.38706350326538086 seconds)\n",
      "(level get_value_in_batch) took 0.7603387832641602 seconds\n",
      "(level solve_one_n_batched) took 0.7845890522003174 seconds\n",
      "(level _is_sat_z3_call) took 0.01248025894165039 seconds (sat)\n",
      "(level _getvalue_all_z3_call) took 0.4437568187713623 seconds\n",
      "(level _getvalue_all) took 0.4474771022796631 seconds)\n",
      "(level get_value_in_batch) took 0.8347938060760498 seconds\n",
      "(level solve_one_n_batched) took 0.8579578399658203 seconds\n",
      "(level _getvalue_all_z3_call) took 0.11784052848815918 seconds\n",
      "(level _getvalue_all) took 0.12140369415283203 seconds)\n",
      "(level get_value_in_batch) took 0.5704846382141113 seconds\n",
      "(level solve_one_n_batched) took 0.6046721935272217 seconds\n",
      "(level _is_sat_z3_call) took 0.003481626510620117 seconds (sat)\n",
      "(level _is_sat_z3_call) took 0.0017354488372802734 seconds (sat)\n",
      "(level _getvalue_all_z3_call) took 0.11495018005371094 seconds\n",
      "(level _getvalue_all) took 0.11914825439453125 seconds)\n",
      "(level get_value_in_batch) took 0.43346118927001953 seconds\n",
      "(level solve_one_n_batched) took 0.4552443027496338 seconds\n",
      "(level _getvalue_all_z3_call) took 0.11420059204101562 seconds\n",
      "(level _getvalue_all) took 0.1176612377166748 seconds)\n",
      "(level get_value_in_batch) took 0.43358778953552246 seconds\n",
      "(level solve_one_n_batched) took 0.4557983875274658 seconds\n",
      "(level _is_sat_z3_call) took 0.09151697158813477 seconds (sat)\n",
      "(level _getvalue_all_z3_call) took 0.11633610725402832 seconds\n",
      "(level _getvalue_all) took 0.12440133094787598 seconds)\n",
      "(level get_value_in_batch) took 3.7427279949188232 seconds\n",
      "(level solve_one_n_batched) took 3.7848026752471924 seconds\n",
      "(level _is_sat_z3_call) took 0.13255739212036133 seconds (sat)\n",
      "(level _getvalue_all_z3_call) took 0.10816383361816406 seconds\n",
      "(level _getvalue_all) took 0.11041688919067383 seconds)\n",
      "(level get_value_in_batch) took 3.636577844619751 seconds\n",
      "(level solve_one_n_batched) took 3.6580543518066406 seconds\n",
      "(level _is_sat_z3_call) took 0.09400367736816406 seconds (sat)\n",
      "(level _is_sat_z3_call) took 0.1033637523651123 seconds (sat)\n",
      "(level _getvalue_all_z3_call) took 0.10893869400024414 seconds\n",
      "(level _getvalue_all) took 0.11175656318664551 seconds)\n",
      "(level get_value_in_batch) took 3.715268135070801 seconds\n",
      "(level solve_one_n_batched) took 3.739473342895508 seconds\n",
      "(level _getvalue_all_z3_call) took 0.11285209655761719 seconds\n",
      "(level _getvalue_all) took 0.11709451675415039 seconds)\n",
      "(level get_value_in_batch) took 3.7864997386932373 seconds\n",
      "(level solve_one_n_batched) took 3.8204314708709717 seconds\n",
      "(level _is_sat_z3_call) took 0.09623289108276367 seconds (sat)\n",
      "(level _getvalue_all_z3_call) took 0.11426424980163574 seconds\n",
      "(level _getvalue_all) took 0.11683511734008789 seconds)\n",
      "(level get_value_in_batch) took 3.6100456714630127 seconds\n",
      "(level solve_one_n_batched) took 3.6375982761383057 seconds\n",
      "(level 3) took 10.810126543045044 seconds\n",
      "(level _is_sat_z3_call) took 0.06366443634033203 seconds (sat)\n",
      "(level _getvalue_all_z3_call) took 0.10742592811584473 seconds\n",
      "(level _getvalue_all) took 0.10991597175598145 seconds)\n",
      "(level get_value_in_batch) took 3.712796926498413 seconds\n",
      "(level solve_one_n_batched) took 3.745640993118286 seconds\n",
      "(level 3) took 11.076298236846924 seconds\n",
      "(level _is_sat_z3_call) took 0.04984903335571289 seconds (sat)\n",
      "(level _getvalue_all_z3_call) took 0.1076662540435791 seconds\n",
      "(level _getvalue_all) took 0.1100761890411377 seconds)\n",
      "(level get_value_in_batch) took 3.620260000228882 seconds\n",
      "(level solve_one_n_batched) took 3.6552419662475586 seconds\n",
      "(level 3) took 11.39792513847351 seconds\n",
      "(level _is_sat_z3_call) took 0.05277729034423828 seconds (sat)\n",
      "(level _getvalue_all_z3_call) took 0.11392712593078613 seconds\n",
      "(level _getvalue_all) took 0.11628985404968262 seconds)\n",
      "(level get_value_in_batch) took 3.7461390495300293 seconds\n",
      "(level solve_one_n_batched) took 3.769024133682251 seconds\n",
      "(level 3) took 11.50627589225769 seconds\n",
      "(level _is_sat_z3_call) took 0.023453950881958008 seconds (sat)\n",
      "(level solver.can_be_true) took 0.03501486778259277 seconds\n",
      "(level state.can_be_true) took 0.035108089447021484 seconds\n",
      "(level _is_sat_z3_call) took 0.001008749008178711 seconds (sat)\n",
      "(level solver.can_be_true) took 0.0030548572540283203 seconds\n",
      "(level state.can_be_true) took 0.003064393997192383 seconds\n",
      "(level _is_sat_z3_call) took 0.019658803939819336 seconds (sat)\n",
      "(level solver.can_be_true) took 0.02550649642944336 seconds\n",
      "(level state.can_be_true) took 0.025519132614135742 seconds\n",
      "(level _is_sat_z3_call) took 0.02063155174255371 seconds (sat)\n",
      "(level solver.can_be_true) took 0.026499271392822266 seconds\n",
      "(level state.can_be_true) took 0.026514768600463867 seconds\n",
      "(level _is_sat_z3_call) took 0.0018305778503417969 seconds (sat)\n",
      "(level _getvalue_all_z3_call) took 0.014668941497802734 seconds\n",
      "(level _getvalue_all) took 0.015576839447021484 seconds)\n",
      "(level get_value_in_batch) took 0.300046443939209 seconds\n",
      "(level solve_one_n_batched) took 0.31890320777893066 seconds\n"
     ]
    }
   ],
   "source": [
    "m.manticore.finalize()"
   ]
  },
  {
   "cell_type": "markdown",
   "id": "0846a927",
   "metadata": {},
   "source": [
    "## De Tamaño variable"
   ]
  },
  {
   "cell_type": "code",
   "execution_count": 2,
   "id": "b25c10b8",
   "metadata": {},
   "outputs": [
    {
     "name": "stdout",
     "output_type": "stream",
     "text": [
      "# -- Deploying Contract arrayContract.sol\n",
      "(level _is_sat_z3_call) took 0.0004181861877441406 seconds (sat)\n",
      "# -- Contract Deployed      (took 0.9357481002807617 seconds)\n"
     ]
    }
   ],
   "source": [
    "m = state_constrainer('arrayContract.sol')\n",
    "witness = m.witness_account"
   ]
  },
  {
   "cell_type": "code",
   "execution_count": 3,
   "id": "03981b20",
   "metadata": {
    "scrolled": true
   },
   "outputs": [
    {
     "data": {
      "text/plain": [
       "{'undefLengthSumArr': b'B\\x11\\xe2\\x07',\n",
       " 'sizedArr': b'HFh\\xc0',\n",
       " 'sumArr': b'R\\xa2M\\xd2',\n",
       " 'undefSizeArr': b']\\xe1\\x843',\n",
       " 'setArrFor': b'pyj\\x15',\n",
       " 'setArrAssign': b'\\x9a\\x99\\xc8`',\n",
       " 'unsizedSetArrFor': b'\\xb9g,\\xeb',\n",
       " 'unsizedSetArrAssign': b'\\xfa?H>'}"
      ]
     },
     "execution_count": 3,
     "metadata": {},
     "output_type": "execute_result"
    }
   ],
   "source": [
    "m.nameToFuncId"
   ]
  },
  {
   "cell_type": "code",
   "execution_count": 4,
   "id": "30878d41",
   "metadata": {},
   "outputs": [
    {
     "name": "stdout",
     "output_type": "stream",
     "text": [
      "([<BitVecVariable(SVALUE) at 7f989c0ca4c0>, <BitVecVariable(SVALUE_1) at 7f9860758c00>, <BitVecVariable(SVALUE_2) at 7f9860758dc0>, <BitVecVariable(SVALUE_3) at 7f9860758e80>, <BitVecVariable(SVALUE_4) at 7f9860758f00>, <BitVecVariable(SVALUE_5) at 7f98607590c0>, <BitVecVariable(SVALUE_6) at 7f9860759140>, <BitVecVariable(SVALUE_7) at 7f98607592c0>, <BitVecVariable(SVALUE_8) at 7f9860759300>, <BitVecVariable(SVALUE_9) at 7f9860759080>],)\n",
      "0\n"
     ]
    }
   ],
   "source": [
    "setArrFor_id = m.nameToFuncId['setArrFor']\n",
    "arrFor, value, _ = m.make_transaction_parameters(setArrFor_id)\n",
    "print(arrFor)\n",
    "print(value)"
   ]
  },
  {
   "cell_type": "code",
   "execution_count": 5,
   "id": "2d77bd94",
   "metadata": {},
   "outputs": [],
   "source": [
    "start = time.time()\n",
    "m.callContractFunction('unsizedSetArrFor',arrFor,value,witness)\n",
    "end = time.time()"
   ]
  },
  {
   "cell_type": "code",
   "execution_count": 6,
   "id": "fdb919bb",
   "metadata": {},
   "outputs": [
    {
     "name": "stdout",
     "output_type": "stream",
     "text": [
      "105.47246980667114 seconds\n"
     ]
    }
   ],
   "source": [
    "print(f\"{end-start} seconds\")"
   ]
  },
  {
   "cell_type": "code",
   "execution_count": 4,
   "id": "0ce07097",
   "metadata": {},
   "outputs": [
    {
     "name": "stdout",
     "output_type": "stream",
     "text": [
      "(uint256[15])\n"
     ]
    }
   ],
   "source": [
    "unsizedSetArrAssign_id = m.nameToFuncId['unsizedSetArrAssign']\n",
    "types = m.contract_metadata.get_func_argument_types(unsizedSetArrAssign_id)\n",
    "types = types[:-2]+'15'+types[-2:]\n",
    "print(types)"
   ]
  },
  {
   "cell_type": "code",
   "execution_count": 5,
   "id": "563786f3",
   "metadata": {},
   "outputs": [
    {
     "name": "stdout",
     "output_type": "stream",
     "text": [
      "([<BitVecVariable(SVALUE) at 7fd5dc216b40>, <BitVecVariable(SVALUE_1) at 7fd5a4765880>, <BitVecVariable(SVALUE_2) at 7fd5a4765c00>, <BitVecVariable(SVALUE_3) at 7fd5a4765cc0>, <BitVecVariable(SVALUE_4) at 7fd5a4765d80>, <BitVecVariable(SVALUE_5) at 7fd5a4765f00>, <BitVecVariable(SVALUE_6) at 7fd5a4764300>, <BitVecVariable(SVALUE_7) at 7fd5a4764140>, <BitVecVariable(SVALUE_8) at 7fd5a4764240>, <BitVecVariable(SVALUE_9) at 7fd5a4767b80>, <BitVecVariable(SVALUE_10) at 7fd5a4764080>, <BitVecVariable(SVALUE_11) at 7fd5a4767c40>, <BitVecVariable(SVALUE_12) at 7fd5a4764440>, <BitVecVariable(SVALUE_13) at 7fd5a4764540>, <BitVecVariable(SVALUE_14) at 7fd5a4764580>],)\n"
     ]
    }
   ],
   "source": [
    "arrAssign = m.manticore.make_symbolic_arguments(types)\n",
    "print(arrAssign)"
   ]
  },
  {
   "cell_type": "code",
   "execution_count": 6,
   "id": "9c6ffe68",
   "metadata": {},
   "outputs": [],
   "source": [
    "start = time.time()\n",
    "m.callContractFunction('unsizedSetArrAssign',arrAssign,0,witness)\n",
    "end = time.time()"
   ]
  },
  {
   "cell_type": "code",
   "execution_count": 7,
   "id": "b2363e83",
   "metadata": {},
   "outputs": [
    {
     "name": "stdout",
     "output_type": "stream",
     "text": [
      "420.7358818054199 seconds\n"
     ]
    }
   ],
   "source": [
    "print(f\"{end-start} seconds\")"
   ]
  },
  {
   "cell_type": "code",
   "execution_count": 9,
   "id": "7f3b859c",
   "metadata": {},
   "outputs": [],
   "source": [
    "m.manticore.constrain(arrAssign[0][0] == 5)\n",
    "m.manticore.constrain(arrAssign[0][-1] == 10)"
   ]
  },
  {
   "cell_type": "code",
   "execution_count": 10,
   "id": "85ac2e52",
   "metadata": {},
   "outputs": [
    {
     "name": "stdout",
     "output_type": "stream",
     "text": [
      "(level _is_sat_z3_call) took 0.027925968170166016 seconds (sat)\n",
      "(level solver.can_be_true) took 0.03437066078186035 seconds\n",
      "(level state.can_be_true) took 0.03833770751953125 seconds\n",
      "(level _is_sat_z3_call) took 0.0008256435394287109 seconds (sat)\n",
      "(level solver.can_be_true) took 0.004549741744995117 seconds\n",
      "(level state.can_be_true) took 0.005917549133300781 seconds\n",
      "(level _is_sat_z3_call) took 0.0005397796630859375 seconds (sat)\n",
      "(level get_value_in_batch) took 0.0038819313049316406 seconds\n",
      "(level solve_one_n_batched) took 0.00532221794128418 seconds\n",
      "(level _is_sat_z3_call) took 0.0019979476928710938 seconds (sat)\n",
      "(level _getvalue_all_z3_call) took 0.00037360191345214844 seconds\n",
      "(level _getvalue_all) took 0.0016751289367675781 seconds)\n",
      "(level get_value_in_batch) took 14.953843355178833 seconds\n",
      "(level solve_one_n_batched) took 29.962414264678955 seconds\n",
      "(level _is_sat_z3_call) took 0.0005099773406982422 seconds (sat)\n",
      "(level get_value_in_batch) took 0.007077932357788086 seconds\n",
      "(level solve_one_n_batched) took 0.008304834365844727 seconds\n",
      "(level _is_sat_z3_call) took 0.00042128562927246094 seconds (sat)\n",
      "(level get_value_in_batch) took 0.0068209171295166016 seconds\n",
      "(level solve_one_n_batched) took 0.008213520050048828 seconds\n",
      "(level _is_sat_z3_call) took 0.022835254669189453 seconds (sat)\n",
      "(level _getvalue_all_z3_call) took 0.0012710094451904297 seconds\n",
      "(level _getvalue_all) took 0.003143310546875 seconds)\n",
      "(level get_value_in_batch) took 15.416643619537354 seconds\n",
      "(level solve_one_n_batched) took 20.405299425125122 seconds\n",
      "(level _is_sat_z3_call) took 0.0004253387451171875 seconds (sat)\n",
      "(level get_value_in_batch) took 0.0122222900390625 seconds\n",
      "(level solve_one_n_batched) took 0.01364588737487793 seconds\n",
      "(level _is_sat_z3_call) took 0.0004050731658935547 seconds (sat)\n",
      "(level get_value_in_batch) took 0.014792680740356445 seconds\n",
      "(level solve_one_n_batched) took 0.01664423942565918 seconds\n",
      "(level _is_sat_z3_call) took 0.0004322528839111328 seconds (sat)\n",
      "(level get_value_in_batch) took 0.012396097183227539 seconds\n",
      "(level solve_one_n_batched) took 0.014033317565917969 seconds\n",
      "(level _is_sat_z3_call) took 0.0006749629974365234 seconds (sat)\n",
      "(level _getvalue_all_z3_call) took 0.0977029800415039 seconds\n",
      "(level _getvalue_all) took 0.0995182991027832 seconds)\n",
      "(level get_value_in_batch) took 0.11621928215026855 seconds\n",
      "(level solve_one_n_batched) took 0.11968302726745605 seconds\n",
      "(level _is_sat_z3_call) took 0.0004248619079589844 seconds (sat)\n",
      "(level get_value_in_batch) took 0.011829376220703125 seconds\n",
      "(level solve_one_n_batched) took 0.013904333114624023 seconds\n",
      "(level _is_sat_z3_call) took 0.0017104148864746094 seconds (sat)\n",
      "(level _getvalue_all_z3_call) took 0.11519193649291992 seconds\n",
      "(level _getvalue_all) took 0.11897540092468262 seconds)\n",
      "(level get_value_in_batch) took 0.437089204788208 seconds\n",
      "(level solve_one_n_batched) took 0.4581010341644287 seconds\n",
      "(level _is_sat_z3_call) took 0.0016543865203857422 seconds (sat)\n",
      "(level _getvalue_all_z3_call) took 0.18971633911132812 seconds\n",
      "(level _getvalue_all) took 0.19408702850341797 seconds)\n",
      "(level get_value_in_batch) took 0.5061402320861816 seconds\n",
      "(level solve_one_n_batched) took 0.5266849994659424 seconds\n",
      "(level _is_sat_z3_call) took 0.024257898330688477 seconds (sat)\n",
      "(level _getvalue_all_z3_call) took 0.009698152542114258 seconds\n",
      "(level _getvalue_all) took 0.012108325958251953 seconds)\n",
      "(level get_value_in_batch) took 38.72933888435364 seconds\n",
      "(level solve_one_n_batched) took 38.7411425113678 seconds\n",
      "(level 3) took 90.36891055107117 seconds\n",
      "(level _is_sat_z3_call) took 0.000759124755859375 seconds (sat)\n",
      "(level solver.can_be_true) took 0.002830982208251953 seconds\n",
      "(level state.can_be_true) took 0.0028531551361083984 seconds\n",
      "(level _is_sat_z3_call) took 0.001664876937866211 seconds (sat)\n",
      "(level _getvalue_all_z3_call) took 0.09906673431396484 seconds\n",
      "(level _getvalue_all) took 0.10062146186828613 seconds)\n",
      "(level get_value_in_batch) took 0.4257485866546631 seconds\n",
      "(level solve_one_n_batched) took 0.44401025772094727 seconds\n"
     ]
    }
   ],
   "source": [
    "m.manticore.finalize()"
   ]
  }
 ],
 "metadata": {
  "kernelspec": {
   "display_name": "Python 3 (ipykernel)",
   "language": "python",
   "name": "python3"
  },
  "language_info": {
   "codemirror_mode": {
    "name": "ipython",
    "version": 3
   },
   "file_extension": ".py",
   "mimetype": "text/x-python",
   "name": "python",
   "nbconvert_exporter": "python",
   "pygments_lexer": "ipython3",
   "version": "3.10.6"
  }
 },
 "nbformat": 4,
 "nbformat_minor": 5
}
