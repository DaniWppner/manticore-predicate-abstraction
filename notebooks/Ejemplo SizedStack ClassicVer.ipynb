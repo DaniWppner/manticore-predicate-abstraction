{
 "cells": [
  {
   "cell_type": "code",
   "execution_count": 1,
   "id": "60b3c30a",
   "metadata": {},
   "outputs": [],
   "source": [
    "import sys\n",
    "import os\n",
    "import itertools\n",
    "sys.path.append(os.path.abspath('../'))\n",
    "from state_constrainer_YY import state_constrainer\n",
    "from IPython.utils import io\n",
    "import time"
   ]
  },
  {
   "cell_type": "code",
   "execution_count": 2,
   "id": "7c0191c9",
   "metadata": {},
   "outputs": [
    {
     "name": "stdout",
     "output_type": "stream",
     "text": [
      "# -- Deploying Contract\n",
      "(level _is_sat_z3_call) took 0.06341290473937988 seconds (sat)\n",
      "# -- Contract Deployed      (took 31.513577222824097 seconds)\n"
     ]
    }
   ],
   "source": [
    "m = state_constrainer('boundedStackInvariant.sol')"
   ]
  },
  {
   "cell_type": "code",
   "execution_count": 3,
   "id": "7fd7ba1d",
   "metadata": {},
   "outputs": [],
   "source": [
    "metodos = [\"push\",\"pop\"]\n",
    "precondiciones = [x+\"_precondition\" for x in metodos]\n",
    "def call_pre():\n",
    "    for cond in precondiciones:\n",
    "        m.callContractFunction(cond,tx_sender=m.witness_account)"
   ]
  },
  {
   "cell_type": "code",
   "execution_count": 4,
   "id": "a99d7b08",
   "metadata": {},
   "outputs": [],
   "source": [
    "states = list(itertools.product([0,1],repeat=len(metodos)))\n",
    "def repr_state(state):\n",
    "    text = \"\"\n",
    "    for x,method in zip(state,metodos):\n",
    "        text += '_'+method if x else \"\"\n",
    "    if text == \"\":\n",
    "        text = \"vacio\"\n",
    "    return text"
   ]
  },
  {
   "cell_type": "code",
   "execution_count": 5,
   "id": "79897fcc",
   "metadata": {},
   "outputs": [],
   "source": [
    "call_pre()"
   ]
  },
  {
   "cell_type": "code",
   "execution_count": 6,
   "id": "fbc4b183",
   "metadata": {},
   "outputs": [],
   "source": [
    "found = []\n",
    "with io.capture_output() as captured:    \n",
    "    for state in states:\n",
    "        count = m.generateTestCases(keys=precondiciones,\n",
    "                                    targets=state,\n",
    "                                    testcaseName=f\"STATE_{repr_state(state)}\")\n",
    "        if count > 0:\n",
    "            found.append(f\"found {count} testcases that reach {repr_state(state)} initial state\")\n",
    "        else:\n",
    "            found.append(f\"found no testcases for {repr_state(state)} initial state\")"
   ]
  },
  {
   "cell_type": "code",
   "execution_count": 7,
   "id": "421327b3",
   "metadata": {},
   "outputs": [
    {
     "name": "stdout",
     "output_type": "stream",
     "text": [
      "found 1 testcases that reach vacio initial state\n",
      "found no testcases for _pop initial state\n",
      "found 1 testcases that reach _push initial state\n",
      "found no testcases for _push_pop initial state\n"
     ]
    }
   ],
   "source": [
    "for line in found:\n",
    "    print(line)"
   ]
  },
  {
   "cell_type": "code",
   "execution_count": 8,
   "id": "75eb86a8",
   "metadata": {},
   "outputs": [
    {
     "name": "stdout",
     "output_type": "stream",
     "text": [
      "(level _is_sat_z3_call) took 0.005105257034301758 seconds (sat)\n",
      "(level _is_sat_z3_call) took 0.015276670455932617 seconds (sat)\n"
     ]
    }
   ],
   "source": [
    "m.take_snapshot()\n",
    "with io.capture_output() as captured:    \n",
    "    m.callContractFunction(\"push\")\n",
    "call_pre()"
   ]
  },
  {
   "cell_type": "code",
   "execution_count": 9,
   "id": "5187e7c8",
   "metadata": {},
   "outputs": [],
   "source": [
    "def repr_transition(state1,state2,metodo):\n",
    "    return f\"{repr_state(state1)}->{metodo}->{repr_state(state2)}\""
   ]
  },
  {
   "cell_type": "code",
   "execution_count": 10,
   "id": "a0c0104a",
   "metadata": {},
   "outputs": [],
   "source": [
    "ini_state = (1,0) #_push\n",
    "found = []\n",
    "with io.capture_output() as captured:    \n",
    "    for fin_state in states:\n",
    "        count = m.generateTestCases(keys=(precondiciones+precondiciones),\n",
    "                                    targets=(ini_state+fin_state),\n",
    "                                    testcaseName=f\"TRANSITION_{repr_transition(ini_state,fin_state,'push')}\")\n",
    "        if count > 0:\n",
    "            found.append(f\"found {count} testcases for transition {repr_transition(ini_state,fin_state,'push')}\")\n",
    "        else:\n",
    "            found.append(f\"found no testcases for transition {repr_transition(ini_state,fin_state,'push')}\")"
   ]
  },
  {
   "cell_type": "code",
   "execution_count": 11,
   "id": "99b82ebc",
   "metadata": {},
   "outputs": [
    {
     "name": "stdout",
     "output_type": "stream",
     "text": [
      "found no testcases for transition _push->push->vacio\n",
      "found 1 testcases for transition _push->push->_pop\n",
      "found no testcases for transition _push->push->_push\n",
      "found 1 testcases for transition _push->push->_push_pop\n"
     ]
    }
   ],
   "source": [
    "for line in found:\n",
    "    print(line)"
   ]
  },
  {
   "cell_type": "code",
   "execution_count": null,
   "id": "d9c27b85",
   "metadata": {},
   "outputs": [],
   "source": [
    "m.take_snapshot()\n",
    "start_setter = time.time()\n",
    "with io.capture_output() as captured:\n",
    "    m.callContractFunction(\"setter\")\n",
    "    call_pre()\n",
    "print(time.time()-start_setter)"
   ]
  },
  {
   "cell_type": "code",
   "execution_count": null,
   "id": "4ad493ca",
   "metadata": {},
   "outputs": [],
   "source": [
    "m.take_snapshot()\n",
    "m.callContractFUnction(\"push\")\n",
    "call_pre()"
   ]
  },
  {
   "cell_type": "code",
   "execution_count": null,
   "id": "bfe53fd8",
   "metadata": {},
   "outputs": [],
   "source": [
    "ini_state = (1,1) #_push_pop\n",
    "found = []\n",
    "with io.capture_output() as captured:    \n",
    "    for fin_state in states:\n",
    "        count = m.generateTestCases(keys=(precondiciones+precondiciones),\n",
    "                                    targets=(ini_state+fin_state),\n",
    "                                    testcaseName=f\"TRANSITION_{repr_transition(ini_state,fin_state,'push')}\")\n",
    "        if count > 0:\n",
    "            found.append(f\"found {count} testcases for transition {repr_transition(ini_state,fin_state,'push')}\")\n",
    "        else:\n",
    "            found.append(f\"found no testcases for transition {repr_transition(ini_state,fin_state,'pus"
   ]
  },
  {
   "cell_type": "code",
   "execution_count": null,
   "id": "d5711ac1",
   "metadata": {},
   "outputs": [],
   "source": [
    "for line in found:\n",
    "    print(line)"
   ]
  },
  {
   "cell_type": "code",
   "execution_count": null,
   "id": "f46d8472",
   "metadata": {},
   "outputs": [],
   "source": [
    "m.goto_snapshot()\n",
    "m.take_snapshot()\n",
    "m.callContractFUnction(\"pop\")\n",
    "call_pre()"
   ]
  },
  {
   "cell_type": "code",
   "execution_count": null,
   "id": "44c996e3",
   "metadata": {},
   "outputs": [],
   "source": [
    "ini_states = [(1,1),(0,1)] #_push_pop , #_pop\n",
    "found = []\n",
    "\n",
    "for ini_state in ini_states:\n",
    "    for fin_state in states:\n",
    "        with io.capture_output() as captured:    \n",
    "            count = m.generateTestCases(keys=(precondiciones+precondiciones),\n",
    "                                        targets=(ini_state+fin_state),\n",
    "                                        testcaseName=f\"TRANSITION_{repr_transition(ini_state,fin_state,'pop')}\")\n",
    "            if count > 0:\n",
    "                found.append(f\"found {count} testcases for transition {repr_transition(ini_state,fin_state,'pop')}\")\n",
    "            else:\n",
    "                found.append(f\"found no testcases for transition {repr_transition(ini_state,fin_state,'pop')}\")"
   ]
  },
  {
   "cell_type": "code",
   "execution_count": null,
   "id": "0d4a3b66",
   "metadata": {},
   "outputs": [],
   "source": [
    "for line in found:\n",
    "    print(line)"
   ]
  }
 ],
 "metadata": {
  "kernelspec": {
   "display_name": "Python 3 (ipykernel)",
   "language": "python",
   "name": "python3"
  },
  "language_info": {
   "codemirror_mode": {
    "name": "ipython",
    "version": 3
   },
   "file_extension": ".py",
   "mimetype": "text/x-python",
   "name": "python",
   "nbconvert_exporter": "python",
   "pygments_lexer": "ipython3",
   "version": "3.10.6"
  }
 },
 "nbformat": 4,
 "nbformat_minor": 5
}
