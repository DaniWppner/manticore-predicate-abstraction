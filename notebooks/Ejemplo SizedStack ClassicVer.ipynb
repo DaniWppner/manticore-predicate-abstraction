{
 "cells": [
  {
   "cell_type": "code",
   "execution_count": 1,
   "id": "60b3c30a",
   "metadata": {},
   "outputs": [],
   "source": [
    "import sys\n",
    "import os\n",
    "import itertools\n",
    "sys.path.append(os.path.abspath('../'))\n",
    "from state_constrainer_YY import state_constrainer\n",
    "from IPython.utils import io\n",
    "import time"
   ]
  },
  {
   "cell_type": "code",
   "execution_count": 2,
   "id": "7c0191c9",
   "metadata": {},
   "outputs": [
    {
     "name": "stdout",
     "output_type": "stream",
     "text": [
      "# -- Deploying Contract boundedStackInvariant.sol\n",
      "(level _is_sat_z3_call) took 0.0004260540008544922 seconds (sat)\n",
      "# -- Contract Deployed      (took 23.322353839874268 seconds)\n"
     ]
    }
   ],
   "source": [
    "m = state_constrainer('boundedStackInvariant.sol')\n",
    "m.take_snapshot()"
   ]
  },
  {
   "cell_type": "code",
   "execution_count": 3,
   "id": "7fd7ba1d",
   "metadata": {},
   "outputs": [],
   "source": [
    "metodos = [\"push\",\"pop\"]\n",
    "precondiciones = [x+\"_precondition\" for x in metodos]\n",
    "def call_pre():\n",
    "    for cond in precondiciones:\n",
    "        m.callContractFunction(cond,tx_sender=m.witness_account)"
   ]
  },
  {
   "cell_type": "code",
   "execution_count": 4,
   "id": "a99d7b08",
   "metadata": {},
   "outputs": [],
   "source": [
    "states = list(itertools.product([0,1],repeat=len(metodos)))\n",
    "def repr_state(state):\n",
    "    text = \"\"\n",
    "    for x,method in zip(state,metodos):\n",
    "        text += '_'+method if x else \"\"\n",
    "    if text == \"\":\n",
    "        text = \"vacio\"\n",
    "    return text"
   ]
  },
  {
   "cell_type": "code",
   "execution_count": 5,
   "id": "79897fcc",
   "metadata": {},
   "outputs": [],
   "source": [
    "call_pre()"
   ]
  },
  {
   "cell_type": "code",
   "execution_count": 6,
   "id": "fbc4b183",
   "metadata": {},
   "outputs": [],
   "source": [
    "found = []\n",
    "with io.capture_output() as captured:    \n",
    "    for state in states:\n",
    "        count = m.generateTestCases(keys=precondiciones,\n",
    "                                    targets=state,\n",
    "                                    testcaseName=f\"STATE_{repr_state(state)}\")\n",
    "        if count > 0:\n",
    "            found.append(f\"found {count} testcases that reach {repr_state(state)} initial state\")\n",
    "        else:\n",
    "            found.append(f\"found no testcases for {repr_state(state)} initial state\")"
   ]
  },
  {
   "cell_type": "code",
   "execution_count": 7,
   "id": "421327b3",
   "metadata": {},
   "outputs": [
    {
     "name": "stdout",
     "output_type": "stream",
     "text": [
      "found True testcases that reach vacio initial state\n",
      "found no testcases for _pop initial state\n",
      "found True testcases that reach _push initial state\n",
      "found no testcases for _push_pop initial state\n"
     ]
    }
   ],
   "source": [
    "for line in found:\n",
    "    print(line)"
   ]
  },
  {
   "cell_type": "code",
   "execution_count": 8,
   "id": "d59d79e8",
   "metadata": {},
   "outputs": [
    {
     "name": "stdout",
     "output_type": "stream",
     "text": [
      "(uint256,uint256,uint256[])\n",
      "(uint256,uint256,uint256[10])\n"
     ]
    }
   ],
   "source": [
    "setter_id = m.nameToFuncId['setter']\n",
    "types = m.contract_metadata.get_func_argument_types(setter_id)\n",
    "print(types)\n",
    "types = types[:-2]+'10'+types[-2:]\n",
    "print(types)"
   ]
  },
  {
   "cell_type": "code",
   "execution_count": 9,
   "id": "52b8a9e7",
   "metadata": {},
   "outputs": [
    {
     "name": "stdout",
     "output_type": "stream",
     "text": [
      "(<BitVecVariable(SVALUE_1) at 7f18cbd37440>, <BitVecVariable(SVALUE_2) at 7f18cbd372c0>, [<BitVecVariable(SVALUE_3) at 7f18cbd35f80>, <BitVecVariable(SVALUE_4) at 7f18cbd375c0>, <BitVecVariable(SVALUE_5) at 7f18cbd377c0>, <BitVecVariable(SVALUE_6) at 7f18cbd36880>, <BitVecVariable(SVALUE_7) at 7f18cbd37900>, <BitVecVariable(SVALUE_8) at 7f18cbd37b00>, <BitVecVariable(SVALUE_9) at 7f18cbd37e00>, <BitVecVariable(SVALUE_10) at 7f18cbd37f40>, <BitVecVariable(SVALUE_11) at 7f18cbd37c40>, <BitVecVariable(SVALUE_12) at 7f18cbd37a00>])\n"
     ]
    }
   ],
   "source": [
    "setterArgs = m.manticore.make_symbolic_arguments(types)\n",
    "print(setterArgs)"
   ]
  },
  {
   "cell_type": "code",
   "execution_count": 10,
   "id": "eb389d08",
   "metadata": {},
   "outputs": [
    {
     "name": "stdout",
     "output_type": "stream",
     "text": [
      "150.1890676021576\n"
     ]
    }
   ],
   "source": [
    "m.goto_snapshot()\n",
    "m.take_snapshot()\n",
    "start_setter = time.time()\n",
    "with io.capture_output() as captured:\n",
    "    m.callContractFunction(\"setter\",call_args = setterArgs, tx_value = 0, tx_sender = m.witness_account)\n",
    "print(time.time()-start_setter)"
   ]
  },
  {
   "cell_type": "code",
   "execution_count": 11,
   "id": "cc3458b5",
   "metadata": {},
   "outputs": [
    {
     "name": "stdout",
     "output_type": "stream",
     "text": [
      "171.2444624900818\n"
     ]
    }
   ],
   "source": [
    "start_inv = time.time()\n",
    "with io.capture_output() as captured:\n",
    "    m.constrainTo(\"invariant\",True)\n",
    "print(time.time()-start_inv)"
   ]
  },
  {
   "cell_type": "code",
   "execution_count": 12,
   "id": "f2ab0041",
   "metadata": {},
   "outputs": [
    {
     "name": "stdout",
     "output_type": "stream",
     "text": [
      "(level _is_sat_z3_call) took 0.2866075038909912 seconds (sat)\n",
      "(level _is_sat_z3_call) took 0.16275572776794434 seconds (unsat)\n",
      "(level _is_sat_z3_call) took 0.23439240455627441 seconds (sat)\n",
      "(level _is_sat_z3_call) took 0.0052471160888671875 seconds (unsat)\n",
      "(level _is_sat_z3_call) took 0.04027295112609863 seconds (sat)\n",
      "(level _is_sat_z3_call) took 0.05490612983703613 seconds (sat)\n"
     ]
    }
   ],
   "source": [
    "call_pre()\n",
    "m.take_snapshot()"
   ]
  },
  {
   "cell_type": "code",
   "execution_count": 13,
   "id": "75eb86a8",
   "metadata": {},
   "outputs": [
    {
     "name": "stdout",
     "output_type": "stream",
     "text": [
      "(level _is_sat_z3_call) took 0.14525461196899414 seconds (sat)\n",
      "(level _is_sat_z3_call) took 0.09169292449951172 seconds (sat)\n",
      "(level _is_sat_z3_call) took 0.05942940711975098 seconds (sat)\n",
      "(level _is_sat_z3_call) took 0.09732604026794434 seconds (sat)\n",
      "(level _is_sat_z3_call) took 0.09786868095397949 seconds (sat)(level _is_sat_z3_call) took 0.07766580581665039 seconds (sat)\n",
      "\n",
      "(level _is_sat_z3_call) took 0.08969402313232422 seconds (sat)\n",
      "(level _is_sat_z3_call) took 0.18428254127502441 seconds (sat)\n"
     ]
    }
   ],
   "source": [
    "with io.capture_output() as captured:    \n",
    "    m.callContractFunction(\"push\")\n",
    "call_pre()"
   ]
  },
  {
   "cell_type": "code",
   "execution_count": 14,
   "id": "5187e7c8",
   "metadata": {},
   "outputs": [],
   "source": [
    "def repr_transition(state1,state2,metodo):\n",
    "    return f\"{repr_state(state1)}->{metodo}->{repr_state(state2)}\""
   ]
  },
  {
   "cell_type": "code",
   "execution_count": 15,
   "id": "a0c0104a",
   "metadata": {},
   "outputs": [],
   "source": [
    "ini_state = (1,0) #_push\n",
    "found = []\n",
    "with io.capture_output() as captured:    \n",
    "    for fin_state in states:\n",
    "        count = m.generateTestCases(keys=(precondiciones+precondiciones),\n",
    "                                    targets=(ini_state+fin_state),\n",
    "                                    testcaseName=f\"TRANSITION_{repr_transition(ini_state,fin_state,'push')}\")\n",
    "        if count > 0:\n",
    "            found.append(f\"found {count} testcases for transition {repr_transition(ini_state,fin_state,'push')}\")\n",
    "        else:\n",
    "            found.append(f\"found no testcases for transition {repr_transition(ini_state,fin_state,'push')}\")"
   ]
  },
  {
   "cell_type": "code",
   "execution_count": 16,
   "id": "99b82ebc",
   "metadata": {},
   "outputs": [
    {
     "name": "stdout",
     "output_type": "stream",
     "text": [
      "found no testcases for transition _push->push->vacio\n",
      "found no testcases for transition _push->push->_pop\n",
      "found no testcases for transition _push->push->_push\n",
      "found no testcases for transition _push->push->_push_pop\n"
     ]
    }
   ],
   "source": [
    "for line in found:\n",
    "    print(line)"
   ]
  },
  {
   "cell_type": "code",
   "execution_count": 17,
   "id": "5df40d46",
   "metadata": {},
   "outputs": [
    {
     "name": "stdout",
     "output_type": "stream",
     "text": [
      "(level _is_sat_z3_call) took 0.05116415023803711 seconds (sat)\n",
      "(level _is_sat_z3_call) took 0.08744955062866211 seconds (sat)\n",
      "(level _is_sat_z3_call) took 0.07607555389404297 seconds (sat)\n",
      "(level _is_sat_z3_call) took 0.08217263221740723 seconds (sat)\n",
      "(level _is_sat_z3_call) took 0.05621647834777832 seconds (sat)\n",
      "(level _is_sat_z3_call) took 0.12699675559997559 seconds (sat)\n",
      "(level _is_sat_z3_call) took 0.16909313201904297 seconds (sat)\n",
      "(level _is_sat_z3_call) took 0.11522364616394043 seconds (sat)\n"
     ]
    }
   ],
   "source": [
    "m.goto_snapshot()\n",
    "m.take_snapshot()\n",
    "with io.capture_output() as captured:\n",
    "    m.callContractFunction(\"push\")\n",
    "call_pre()"
   ]
  },
  {
   "cell_type": "code",
   "execution_count": 18,
   "id": "bfe53fd8",
   "metadata": {},
   "outputs": [],
   "source": [
    "allowing_states = [(1,0),(1,1)] #_push, #_push_pop\n",
    "found = []\n",
    "with io.capture_output() as captured:  \n",
    "    for ini_state in allowing_states:\n",
    "        for fin_state in states:\n",
    "            count = m.generateTestCases(keys=(precondiciones+precondiciones),\n",
    "                                        targets=(ini_state+fin_state),\n",
    "                                        testcaseName=f\"TRANSITION_{repr_transition(ini_state,fin_state,'push')}\")\n",
    "            if count > 0:\n",
    "                found.append(f\"found {count} testcases for transition {repr_transition(ini_state,fin_state,'push')}\")\n",
    "            else:\n",
    "                found.append(f\"found no testcases for transition {repr_transition(ini_state,fin_state,'push')}\")"
   ]
  },
  {
   "cell_type": "code",
   "execution_count": 19,
   "id": "d5711ac1",
   "metadata": {},
   "outputs": [
    {
     "name": "stdout",
     "output_type": "stream",
     "text": [
      "found no testcases for transition _push->push->vacio\n",
      "found no testcases for transition _push->push->_pop\n",
      "found no testcases for transition _push->push->_push\n",
      "found no testcases for transition _push->push->_push_pop\n",
      "found no testcases for transition _push_pop->push->vacio\n",
      "found True testcases for transition _push_pop->push->_pop\n",
      "found no testcases for transition _push_pop->push->_push\n",
      "found True testcases for transition _push_pop->push->_push_pop\n"
     ]
    }
   ],
   "source": [
    "for line in found:\n",
    "    print(line)"
   ]
  },
  {
   "cell_type": "code",
   "execution_count": 20,
   "id": "f46d8472",
   "metadata": {},
   "outputs": [
    {
     "name": "stdout",
     "output_type": "stream",
     "text": [
      "353.8847575187683\n"
     ]
    }
   ],
   "source": [
    "m.goto_snapshot()\n",
    "m.take_snapshot()\n",
    "start_pop = time.time()\n",
    "with io.capture_output() as captured:\n",
    "    m.callContractFunction(\"pop\")\n",
    "    call_pre()\n",
    "print(time.time()-start_pop)"
   ]
  },
  {
   "cell_type": "code",
   "execution_count": 21,
   "id": "44c996e3",
   "metadata": {},
   "outputs": [],
   "source": [
    "ini_states = [(1,1),(0,1)] #_push_pop , #_pop\n",
    "found = []\n",
    "\n",
    "for ini_state in ini_states:\n",
    "    for fin_state in states:\n",
    "        with io.capture_output() as captured:    \n",
    "            count = m.generateTestCases(keys=(precondiciones+precondiciones),\n",
    "                                        targets=(ini_state+fin_state),\n",
    "                                        testcaseName=f\"TRANSITION_{repr_transition(ini_state,fin_state,'pop')}\")\n",
    "            if count > 0:\n",
    "                found.append(f\"found {count} testcases for transition {repr_transition(ini_state,fin_state,'pop')}\")\n",
    "            else:\n",
    "                found.append(f\"found no testcases for transition {repr_transition(ini_state,fin_state,'pop')}\")"
   ]
  },
  {
   "cell_type": "code",
   "execution_count": 22,
   "id": "0d4a3b66",
   "metadata": {},
   "outputs": [
    {
     "name": "stdout",
     "output_type": "stream",
     "text": [
      "found no testcases for transition _push_pop->pop->vacio\n",
      "found no testcases for transition _push_pop->pop->_pop\n",
      "found no testcases for transition _push_pop->pop->_push\n",
      "found True testcases for transition _push_pop->pop->_push_pop\n",
      "found no testcases for transition _pop->pop->vacio\n",
      "found True testcases for transition _pop->pop->_pop\n",
      "found no testcases for transition _pop->pop->_push\n",
      "found no testcases for transition _pop->pop->_push_pop\n"
     ]
    }
   ],
   "source": [
    "for line in found:\n",
    "    print(line)"
   ]
  }
 ],
 "metadata": {
  "kernelspec": {
   "display_name": "Python 3 (ipykernel)",
   "language": "python",
   "name": "python3"
  },
  "language_info": {
   "codemirror_mode": {
    "name": "ipython",
    "version": 3
   },
   "file_extension": ".py",
   "mimetype": "text/x-python",
   "name": "python",
   "nbconvert_exporter": "python",
   "pygments_lexer": "ipython3",
   "version": "3.10.6"
  }
 },
 "nbformat": 4,
 "nbformat_minor": 5
}
